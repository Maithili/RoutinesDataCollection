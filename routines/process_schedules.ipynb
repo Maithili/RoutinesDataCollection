{
 "cells": [
  {
   "cell_type": "code",
   "execution_count": 74,
   "metadata": {},
   "outputs": [],
   "source": [
    "import json\n",
    "import os"
   ]
  },
  {
   "cell_type": "code",
   "execution_count": 75,
   "metadata": {},
   "outputs": [],
   "source": [
    "weekday_schedules = []\n",
    "weekend_schedules = []\n",
    "activity_map = {\n",
    "\"bathe_shower\" : \"showering\",\n",
    "\"brush_teeth\" : \"brushing_teeth\",\n",
    "\"computer_work\" : \"computer_work\",\n",
    "\"connect_w_friends\" : None,\n",
    "\"clean\" : \"cleaning\",\n",
    "\"clean_kitchen\" : \"kitchen_cleaning\",\n",
    "\"diary_journaling\" : None,\n",
    "\"do_laundry\" : \"laundry\",\n",
    "\"get_dressed\" : \"getting_dressed\",\n",
    "\"hand_wash_clothes\" : \"laundry\",\n",
    "\"leave_home\" : None,\n",
    "\"come_home\" : None,\n",
    "\"listen_to_music\" : \"listening_to_music\",\n",
    "\"prepare_eat_breakfast\" : \"breakfast\",\n",
    "\"prepare_eat_dinner\" : \"dinner\",\n",
    "\"prepare_eat_lunch\" : \"lunch\",\n",
    "\"play_music\" : \"playing_music\",\n",
    "\"read\" : \"reading\",\n",
    "\"sleep\" : \"sleeping\",\n",
    "\"take_medication\" : \"taking_medication\",\n",
    "\"take_out_trash\" : \"take_out_trash\",\n",
    "\"use_restroom\" : \"going_to_the_bathroom\",\n",
    "\"vacuum_clean\" : \"vaccuum_cleaning\",\n",
    "\"wash_dishes\" : \"wash_dishes\",\n",
    "\"watch_tv\" : \"watching_tv\",\n",
    "\"wake_up\" : \"getting_out_of_bed\",\n",
    "}\n",
    "start_times = [6,7,8,9,10,11,12,13,14,15,16,17,18,19,20,21,22,23]"
   ]
  },
  {
   "cell_type": "code",
   "execution_count": 76,
   "metadata": {},
   "outputs": [],
   "source": [
    "def get_schedule(data):\n",
    "    activity_times = {}\n",
    "    for timestring,activities in data.items():\n",
    "        start_time = timestring.split('m')[0]\n",
    "        start_time = int(start_time[:-1]) if start_time[-1] == 'a' else int(start_time[:-1])+12\n",
    "        if start_time == 24:\n",
    "            start_time = 12\n",
    "        for act in activities:\n",
    "            if act in activity_times:\n",
    "                activity_times[act].append(start_time)\n",
    "            else:\n",
    "                activity_times[act] = [start_time]\n",
    "    schedule = {}\n",
    "    for activity, start_times in activity_times.items():\n",
    "        sch_activity = activity_map[activity]\n",
    "        if sch_activity is None:\n",
    "            continue\n",
    "        schedule[sch_activity] = [[start_times[0], start_times[0]+1]]\n",
    "        for time in start_times[1:]:\n",
    "            if schedule[sch_activity][-1][1] == time:\n",
    "                schedule[sch_activity][-1][1] = time+1\n",
    "            else:\n",
    "                schedule[sch_activity].append([time, time+1])\n",
    "    return schedule"
   ]
  },
  {
   "cell_type": "code",
   "execution_count": 77,
   "metadata": {},
   "outputs": [],
   "source": [
    "for root, dirs, files in os.walk('data/AMT_Schedules'):\n",
    "    for f in files:\n",
    "        if f.endswith('.json'):\n",
    "            with open(os.path.join(root,f)) as file:\n",
    "                sch = json.load(file)\n",
    "            with open(os.path.join('data/sourcedSchedules/weekday',f), 'w') as f:\n",
    "                json.dump(get_schedule(sch['activitiesChosen']), f)\n"
   ]
  },
  {
   "cell_type": "code",
   "execution_count": null,
   "metadata": {},
   "outputs": [],
   "source": []
  }
 ],
 "metadata": {
  "interpreter": {
   "hash": "4cffe7c9c5b16c39ad8342f96bfb2ea1c3f8c12324c2ee5fa5fb5a776efa78cb"
  },
  "kernelspec": {
   "display_name": "Python 3.7.4 64-bit ('.venv': venv)",
   "language": "python",
   "name": "python3"
  },
  "language_info": {
   "codemirror_mode": {
    "name": "ipython",
    "version": 3
   },
   "file_extension": ".py",
   "mimetype": "text/x-python",
   "name": "python",
   "nbconvert_exporter": "python",
   "pygments_lexer": "ipython3",
   "version": "3.7.4"
  },
  "orig_nbformat": 4
 },
 "nbformat": 4,
 "nbformat_minor": 2
}
